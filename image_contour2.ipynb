{
 "cells": [
  {
   "cell_type": "markdown",
   "metadata": {},
   "source": [
    "第二章 图像轮廓 矩特征\n",
    "\n",
    "比较两个轮廓最简单的方法是比较两者的轮廓矩。\n",
    "轮廓矩代表了一个轮廓，一幅图像，一组点集的全局特征。\n",
    "矩信息包含了对应对象不同类型的几个特征，例如大小、位置、角度、形状等"
   ]
  },
  {
   "cell_type": "code",
   "execution_count": 21,
   "metadata": {},
   "outputs": [],
   "source": [
    "import numpy as np\n",
    "import cv2\n",
    "from matplotlib import pyplot as plt\n",
    "%matplotlib inline\n",
    "\n",
    "def show(img):\n",
    "    #picture_name_full = picture_name + \".jpg\"\n",
    "    #img = cv2.imread(picture_name_full)\n",
    "    img = img[:,:,(2,1,0)]                # opencv中的通道顺序是BGR，与Python的RGB刚好相反。因此此处需要调整顺序。\n",
    "    img2 = img[:,:,::-1]                  # 必须为 ::-1\n",
    "    plt.imshow(img)\n",
    "    #plt.imshow(q,cmap = plt.cm.gray),plt.axis('off'),用于正确显示灰度图\n",
    "    #plt.figure(figsize=(10,10)),用于放大，这样子是放大十倍，但只是放大显示，不是放大图像本身"
   ]
  },
  {
   "cell_type": "code",
   "execution_count": 22,
   "metadata": {},
   "outputs": [
    {
     "name": "stdout",
     "output_type": "stream",
     "text": [
      "<class 'dict'>\n"
     ]
    }
   ],
   "source": [
    "#矩的计算：moments函数\n",
    "#cv2.moments()获取的轮廓特征称为“轮廓矩”。\n",
    "#retval = cv2.moments(array[,binaryImage])\n",
    "#array: 可以是点集、灰度图像、二值图像；如果是点集，会视为一整个轮廓而不是独立的点\n",
    "#binaryImage: 只有在参数array是图像时才能使用，为True时，非0变为1\n",
    "#retval 包括 1.空间矩；2.中心矩；3.归一化中心矩\n",
    "\n",
    "#如果两个轮廓的矩一致，那么两个轮廓就是一致的。\n",
    "#大多矩比较抽象，但是m00（零介矩）是轮廓面积\n",
    "#中心矩具有平移不变性，位置关系不会影响它\n",
    "#归一化中心矩具有平移不变性和缩放不变性\n",
    "\n",
    "o = cv2.imread('moments.bmp')\n",
    "gray = cv2.cvtColor(o,cv2.COLOR_BGR2GRAY)\n",
    "ret,binary = cv2.threshold(gray,127,255,cv2.THRESH_BINARY)\n",
    "contours,hierarchy = cv2.findContours(binary,cv2.RETR_LIST,cv2.CHAIN_APPROX_SIMPLE)\n",
    "print(type(cv2.moments(contours[i])))\n"
   ]
  },
  {
   "cell_type": "code",
   "execution_count": 25,
   "metadata": {},
   "outputs": [
    {
     "name": "stdout",
     "output_type": "stream",
     "text": [
      "contours[0]面积= 13108.0\n",
      "contours[1]面积= 19535.0\n",
      "contours[2]面积= 12058.0\n"
     ]
    }
   ],
   "source": [
    "#计算轮廓的面积：contourArea函数\n",
    "#retval = cv2.contourArea(contour[,oriented])\n",
    "#oriented : 布尔类型的值，true时返回的值带符号，用来表示顺逆，false时返回绝对值\n",
    "o = cv2.imread('contours.bmp')\n",
    "gray = cv2.cvtColor(o,cv2.COLOR_BGR2GRAY)\n",
    "ret,binary = cv2.threshold(gray,127,255,cv2.THRESH_BINARY)\n",
    "contours,hierarchy = cv2.findContours(binary,cv2.RETR_LIST,cv2.CHAIN_APPROX_SIMPLE)\n",
    "n = len(contours)\n",
    "contoursImg = []\n",
    "for i in range(n):\n",
    "    print(\"contours[\"+str(i)+\"]面积=\",cv2.contourArea(contours[i]))"
   ]
  },
  {
   "cell_type": "code",
   "execution_count": 26,
   "metadata": {},
   "outputs": [],
   "source": [
    "#计算轮廓长度\n",
    "#retval = cv2.arcLength(curve,closed)\n",
    "#curve : 轮廓（迷之改名）\n",
    "#closed: 布尔类型，True时表示轮廓是封闭的"
   ]
  },
  {
   "cell_type": "markdown",
   "metadata": {},
   "source": [
    "Hu矩\n",
    "Hu矩是归一化中心矩的线性组合，在图像旋转、缩放、平移等操作后，不会改变\n",
    "hu = cv2.HuMoments(cv2.comments(image))"
   ]
  },
  {
   "cell_type": "code",
   "execution_count": 27,
   "metadata": {},
   "outputs": [
    {
     "name": "stdout",
     "output_type": "stream",
     "text": [
      "[ 1.21949664e-03  9.25267773e-07  4.05157060e-12  2.46555893e-11\n",
      "  2.41189094e-22  2.27497012e-14 -5.05282814e-23]\n"
     ]
    }
   ],
   "source": [
    "#小例子\n",
    "o = cv2.imread('cs1.bmp')\n",
    "gray = cv2.cvtColor(o,cv2.COLOR_BGR2GRAY)\n",
    "Hu = cv2.HuMoments(cv2.moments(gray)).flatten() #flatten将array连在一起，去掉中间分隔用的[]\n",
    "print(Hu)"
   ]
  },
  {
   "cell_type": "code",
   "execution_count": 28,
   "metadata": {},
   "outputs": [],
   "source": [
    "#形状匹配\n",
    "#cv2.matchShapes(),对两个对象的Hu矩进行比较\n",
    "#retval = cv2.matchShapes(contour1,contour2,method,parameter)\n",
    "#method:\n",
    "    #cv2.CONTOURS_MATCH_11 : 倒数差的绝对值 求和\n",
    "    #cv2.CONTOURS_MATCH_12 : 差的绝对值 求和\n",
    "    #cv2.CONTOURS_MATCH_13 : 差比上contour1的Hu矩的绝对值 再求最大值\n",
    "    #PS:上述运算都是一个一个轮廓算，最终求和或者取最大值\n",
    "#paremeter : 设为0.0 就好\n",
    "#这个就不举例了 比较简单"
   ]
  },
  {
   "cell_type": "code",
   "execution_count": 32,
   "metadata": {},
   "outputs": [
    {
     "name": "stdout",
     "output_type": "stream",
     "text": [
      "(202, 107, 157, 73)\n",
      "202\n"
     ]
    }
   ],
   "source": [
    "#轮廓拟合\n",
    "#有时需要一个轮廓的近似多边形\n",
    "#retval = cv2.boundingRect(array)\n",
    "#retval : 返回的矩形边界左上角顶点的坐标及矩形边界的宽度和高度（元组形式）\n",
    "#array : 灰度图像或者轮廓\n",
    "\n",
    "#该函数也能返回四个值\n",
    "#x,y,w,h = cv2.boundingRect(array)\n",
    "#分别代表，左上角顶点x坐标，左上角顶底y坐标，x方向长度，y方向长度\n",
    "o = cv2.imread('cc.bmp')\n",
    "gray = cv2.cvtColor(o,cv2.COLOR_BGR2GRAY)\n",
    "ret,binary = cv2.threshold(gray,127,255,cv2.THRESH_BINARY)\n",
    "contours,hierarchy = cv2.findContours(binary,cv2.RETR_LIST,cv2.CHAIN_APPROX_SIMPLE)\n",
    "x,y,w,h = cv2.boundingRect(contours[0])\n",
    "rect = cv2.boundingRect(contours[0])\n",
    "print(rect)\n",
    "print(rect[0]) #tuple中的元素可以访问，但不能更改"
   ]
  },
  {
   "cell_type": "code",
   "execution_count": 34,
   "metadata": {},
   "outputs": [
    {
     "name": "stdout",
     "output_type": "stream",
     "text": [
      "[[202 107]\n",
      " [359 107]\n",
      " [359 180]\n",
      " [202 180]]\n"
     ]
    },
    {
     "data": {
      "image/png": "[encoded data removed]",
      "text/plain": [
       "<Figure size 432x288 with 1 Axes>"
      ]
     },
     "metadata": {
      "needs_background": "light"
     },
     "output_type": "display_data"
    }
   ],
   "source": [
    "#绘制矩形包围框\n",
    "o = cv2.imread('cc.bmp')\n",
    "gray = cv2.cvtColor(o,cv2.COLOR_BGR2GRAY)\n",
    "ret,binary = cv2.threshold(gray,127,255,cv2.THRESH_BINARY)\n",
    "contours,hierarchy = cv2.findContours(binary,cv2.RETR_LIST,cv2.CHAIN_APPROX_SIMPLE)\n",
    "x,y,w,h = cv2.boundingRect(contours[0])\n",
    "#rect = cv2.boundingRect(contours[0]) \n",
    "#brcnt = np.array([[[x,y]],[[x+w,y]],[[x+w,y+h]],[[x,y+h]]])  #注意下顺序，是一个顺时针顺序，这样写是三维数组\n",
    "brcnt = np.array([[x,y],[x+w,y],[x+w,y+h],[x,y+h]])#这样写也可以，是二维数组，虽然python没有数组这个概念，但可以这么理解\n",
    "print(brcnt) \n",
    "cv2.drawContours(o,[brcnt],-1,(255,255,255),2)\n",
    "#或者 cv2.rectangle(o,(x,y),(x+w,y+h),(255,255,255),2)\n",
    "show(o)"
   ]
  },
  {
   "cell_type": "code",
   "execution_count": 35,
   "metadata": {},
   "outputs": [
    {
     "name": "stdout",
     "output_type": "stream",
     "text": [
      "((280.3699951171875, 138.58999633789062), (154.99778747558594, 63.78103256225586), -8.130102157592773)\n"
     ]
    },
    {
     "data": {
      "image/png": "[encoded data removed]",
      "text/plain": [
       "<Figure size 432x288 with 1 Axes>"
      ]
     },
     "metadata": {
      "needs_background": "light"
     },
     "output_type": "display_data"
    }
   ],
   "source": [
    "#最小包围矩形框\n",
    "#可以发现，上面的矩形是正放的，其实最小的轮廓矩形可能是斜着的\n",
    "#retval = cv2.minAreaRect(points)\n",
    "#retval : 返回的矩形特征信息——（最小外接矩形的中心(x,y),(宽度，高度）,旋转角度）\n",
    "#points : 指轮廓\n",
    "\n",
    "#需要注意的是，返回值retval的结构不符合函数cv2.drawContours()的参数结构要求，需要转换\n",
    "#points = cv2.boxPoints(box)\n",
    "o = cv2.imread('cc.bmp')\n",
    "gray = cv2.cvtColor(o,cv2.COLOR_BGR2GRAY)\n",
    "ret,binary = cv2.threshold(gray,127,255,cv2.THRESH_BINARY)\n",
    "contours,hierarchy = cv2.findContours(binary,cv2.RETR_LIST,cv2.CHAIN_APPROX_SIMPLE)\n",
    "\n",
    "rect = cv2.minAreaRect(contours[0])\n",
    "print(rect)\n",
    "\n",
    "points = cv2.boxPoints(rect)\n",
    "points = np.int0(points) #取整\n",
    "image = cv2.drawContours(o,[points],0,(255,255,255),2)\n",
    "show(image)"
   ]
  },
  {
   "cell_type": "code",
   "execution_count": 36,
   "metadata": {},
   "outputs": [
    {
     "data": {
      "image/png": "[encoded data removed]",
      "text/plain": [
       "<Figure size 432x288 with 1 Axes>"
      ]
     },
     "metadata": {
      "needs_background": "light"
     },
     "output_type": "display_data"
    }
   ],
   "source": [
    "#最小包围圆形\n",
    "#center,radius = cv2.minEnclosingCircle(points)\n",
    "#center : 最小包围圆的圆心\n",
    "#radius : 最小包围圆的半径\n",
    "#points : 轮廓\n",
    "o = cv2.imread('cc.bmp')\n",
    "gray = cv2.cvtColor(o,cv2.COLOR_BGR2GRAY)\n",
    "ret,binary = cv2.threshold(gray,127,255,cv2.THRESH_BINARY)\n",
    "contours,hierarchy = cv2.findContours(binary,cv2.RETR_LIST,cv2.CHAIN_APPROX_SIMPLE)\n",
    "\n",
    "(x,y),radius = cv2.minEnclosingCircle(contours[0])\n",
    "\n",
    "center = (int(x),int(y))\n",
    "radius = int(radius)\n",
    "cv2.circle(o,center,radius,(255,255,255),2)\n",
    "show(o)"
   ]
  },
  {
   "cell_type": "code",
   "execution_count": 37,
   "metadata": {},
   "outputs": [
    {
     "data": {
      "image/png": "[encoded data removed]",
      "text/plain": [
       "<Figure size 432x288 with 1 Axes>"
      ]
     },
     "metadata": {
      "needs_background": "light"
     },
     "output_type": "display_data"
    }
   ],
   "source": [
    "#最优拟合椭圆\n",
    "#retval = cv2.fitEllipse(points)\n",
    "#retval是RotateRect类型的值，是拟合椭圆的外接矩形\n",
    "\n",
    "o = cv2.imread('cc.bmp')\n",
    "gray = cv2.cvtColor(o,cv2.COLOR_BGR2GRAY)\n",
    "ret,binary = cv2.threshold(gray,127,255,cv2.THRESH_BINARY)\n",
    "contours,hierarchy = cv2.findContours(binary,cv2.RETR_LIST,cv2.CHAIN_APPROX_SIMPLE)\n",
    "\n",
    "ellipse = cv2.fitEllipse(contours[0])\n",
    "cv2.ellipse(o,ellipse,(0,255,0),3)\n",
    "show(o)"
   ]
  },
  {
   "cell_type": "code",
   "execution_count": 40,
   "metadata": {},
   "outputs": [
    {
     "data": {
      "image/png": "[encoded data removed]",
      "text/plain": [
       "<Figure size 432x288 with 1 Axes>"
      ]
     },
     "metadata": {
      "needs_background": "light"
     },
     "output_type": "display_data"
    }
   ],
   "source": [
    "#最优拟合直线\n",
    "#line = cv2.fitLine(points,distType,param,reps,aeps)\n",
    "#distType : 距离类型，要求输入点到直线的距离和最小，对于距离下定义\n",
    "#param: 距离参数，与距离类型有关\n",
    "#reps : 径向精度，通常为0.01\n",
    "#aeps ： 角度精度，通常为0.01\n",
    "\n",
    "o = cv2.imread('cc.bmp')\n",
    "gray = cv2.cvtColor(o,cv2.COLOR_BGR2GRAY)\n",
    "ret,binary = cv2.threshold(gray,127,255,cv2.THRESH_BINARY)\n",
    "contours,hierarchy = cv2.findContours(binary,cv2.RETR_LIST,cv2.CHAIN_APPROX_SIMPLE)\n",
    "\n",
    "rows,cols = image.shape[:2] #前两个，该图像是彩色图像，是三维数组\n",
    "[vx,vy,x,y] = cv2.fitLine(contours[0],cv2.DIST_L2,0,0.01,0.01)\n",
    "lefty = int((-x*vy/vx)+y)\n",
    "righty = int(((cols-x)*vy/vx)+y)\n",
    "cv2.line(o,(cols-1,righty),(0,lefty),(0,255,0),2)\n",
    "show(o)"
   ]
  },
  {
   "cell_type": "code",
   "execution_count": 41,
   "metadata": {},
   "outputs": [
    {
     "data": {
      "image/png": "[encoded data removed]",
      "text/plain": [
       "<Figure size 432x288 with 1 Axes>"
      ]
     },
     "metadata": {
      "needs_background": "light"
     },
     "output_type": "display_data"
    }
   ],
   "source": [
    "#最小外包三角形\n",
    "#retval,triangle = cv2.minEnclosingTriangle(points)\n",
    "#retval : 最小外包三角形的面积\n",
    "#triangle : 最小外包三角形的三个顶点集\n",
    "\n",
    "o = cv2.imread('cc.bmp')\n",
    "gray = cv2.cvtColor(o,cv2.COLOR_BGR2GRAY)\n",
    "ret,binary = cv2.threshold(gray,127,255,cv2.THRESH_BINARY)\n",
    "contours,hierarchy = cv2.findContours(binary,cv2.RETR_LIST,cv2.CHAIN_APPROX_SIMPLE)\n",
    "\n",
    "area,trg1 = cv2.minEnclosingTriangle(contours[0])\n",
    "\n",
    "#绘制三角形，这个很酷\n",
    "for i in range(0,3):\n",
    "    cv2.line(o,tuple(trg1[i][0]),tuple(trg1[(i+1)%3][0]),(255,255,255),2)\n",
    "show(o)"
   ]
  },
  {
   "cell_type": "code",
   "execution_count": 42,
   "metadata": {},
   "outputs": [],
   "source": [
    "#逼近多边形\n",
    "#approxCurve = cv2.approxPolyDP(curve,epsilon,closed)\n",
    "#返回值是逼近多边形的点集\n",
    "#epsilon : 精度，原始轮廓的边界点与逼近多边形边界之间的最大距离，通过不断调整，可以优化效果\n",
    "#closed : True时多边形闭合\n",
    "\n",
    "#不举例"
   ]
  },
  {
   "cell_type": "code",
   "execution_count": 44,
   "metadata": {},
   "outputs": [
    {
     "data": {
      "image/png": "[encoded data removed]",
      "text/plain": [
       "<Figure size 432x288 with 1 Axes>"
      ]
     },
     "metadata": {
      "needs_background": "light"
     },
     "output_type": "display_data"
    }
   ],
   "source": [
    "#凸包\n",
    "#凸包是完全包含原有轮廓，并且仅由轮廓上的点所构成的多边形。凸包的每一处都是凸的。\n",
    "#hull = cv2.convexHull(points[,clockwise[,returnPoints]])\n",
    "#hull : 返回的凸包角点\n",
    "#clockwise: 布尔类型值，True时凸包角点按照顺时针排列\n",
    "#returnPoints:布尔类型，默认是True,返回坐标，False时返回轮廓中凸包角点的索引\n",
    "\n",
    "o = cv2.imread('hand.bmp')\n",
    "gray = cv2.cvtColor(o,cv2.COLOR_BGR2GRAY)\n",
    "ret,binary = cv2.threshold(gray,127,255,cv2.THRESH_BINARY)\n",
    "contours,hierarchy = cv2.findContours(binary,cv2.RETR_LIST,cv2.CHAIN_APPROX_SIMPLE)\n",
    "\n",
    "hull = cv2.convexHull(contours[0])\n",
    "\n",
    "cv2.polylines(o,[hull],True,(0,255,0),2) #绘制凸包\n",
    "\n",
    "show(o)"
   ]
  },
  {
   "cell_type": "code",
   "execution_count": 45,
   "metadata": {},
   "outputs": [],
   "source": [
    "#凸缺陷\n",
    "#凸包与轮廓之间的部分称为凸缺陷\n",
    "#convexityDefects = cv2.convexityDefects(contour,convexhull)\n",
    "#返回点集，是一个数组，每一行包含的值是[起点，终点，轮廓上距离凸包最远的点，最远点到凸包的近似距离]\n",
    "#前三个是索引，需要到轮廓中找\n",
    "#计算凸包时，returnPoints的值必须是False"
   ]
  },
  {
   "cell_type": "markdown",
   "metadata": {},
   "source": []
  },
  {
   "cell_type": "code",
   "execution_count": null,
   "metadata": {},
   "outputs": [],
   "source": []
  }
 ],
 "metadata": {
  "kernelspec": {
   "display_name": "Python 3",
   "language": "python",
   "name": "python3"
  },
  "language_info": {
   "codemirror_mode": {
    "name": "ipython",
    "version": 3
   },
   "file_extension": ".py",
   "mimetype": "text/x-python",
   "name": "python",
   "nbconvert_exporter": "python",
   "pygments_lexer": "ipython3",
   "version": "3.7.3"
  }
 },
 "nbformat": 4,
 "nbformat_minor": 2
}
