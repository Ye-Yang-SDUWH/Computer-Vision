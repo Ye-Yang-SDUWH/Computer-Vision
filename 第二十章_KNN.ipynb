{
 "cells": [
  {
   "cell_type": "markdown",
   "metadata": {},
   "source": [
    "第二十章 手写数字识别"
   ]
  },
  {
   "cell_type": "code",
   "execution_count": 1,
   "metadata": {},
   "outputs": [],
   "source": [
    "import numpy as np\n",
    "import cv2\n",
    "from matplotlib import pyplot as plt\n",
    "%matplotlib inline\n",
    "\n",
    "def show(img):\n",
    "    #picture_name_full = picture_name + \".jpg\"\n",
    "    #img = cv2.imread(picture_name_full)\n",
    "    img = img[:,:,(2,1,0)]                # opencv中的通道顺序是BGR，与Python的RGB刚好相反。因此此处需要调整顺序。\n",
    "    img2 = img[:,:,::-1]                  # 必须为 ::-1\n",
    "    plt.imshow(img)"
   ]
  },
  {
   "cell_type": "code",
   "execution_count": 2,
   "metadata": {},
   "outputs": [],
   "source": [
    "#使用KNN算法,但自定义所有函数（不调包）\n",
    "#cv2.KNearest()\n",
    "#1.数据初始化\n",
    "s = 'image\\\\' #图像所在路径\n",
    "num = 100     #共有特征值的数量\n",
    "row = 240     #特征图像的行数\n",
    "col = 240     #特征图像的列数\n",
    "a = np.zeros((num,row,col)) #a用来存储所有特征的值"
   ]
  },
  {
   "cell_type": "code",
   "execution_count": 3,
   "metadata": {},
   "outputs": [],
   "source": [
    "#2.读取特征图像\n",
    "#将所有特征图像读入a中，共有十个数字，每个数字10个特征图像\n",
    "n = 0  #n用来存储当前图像的编号\n",
    "for i in range(0,10):\n",
    "    for j in range(1,11):\n",
    "        a[n,:,:]=cv2.imread(s+str(i)+'\\\\'+str(i)+'-'+str(j)+'.bmp',0)\n",
    "        n = n+1"
   ]
  },
  {
   "cell_type": "code",
   "execution_count": 4,
   "metadata": {},
   "outputs": [
    {
     "name": "stdout",
     "output_type": "stream",
     "text": [
      "(100, 48, 48)\n",
      "240\n"
     ]
    }
   ],
   "source": [
    "#3.提取特征图像的特征值\n",
    "#计算每个子块白色像素的值；子块：将原始图像分割成若干个子块\n",
    "#由于有了子块，原图的行列数与特征值矩阵的行列数不相同，有一个倍数对应关系\n",
    "feature = np.zeros((num,round(row/5),round(col/5)))  #feature存储所有样本的特征值\n",
    "print(feature.shape) #输出出来看看\n",
    "print(row)      #输出出来看看\n",
    "for ni in range(0,num):\n",
    "    for nr in range(0,row):\n",
    "        for nc in range(0,col):\n",
    "            if a[ni,nr,nc]==255:\n",
    "                feature[ni,int(nr/5),int(nc/5)]+=1\n",
    "f = feature #简化变量名称"
   ]
  },
  {
   "cell_type": "code",
   "execution_count": 5,
   "metadata": {},
   "outputs": [],
   "source": [
    "#4.计算待识别图像的特征值\n",
    "o = cv2.imread('image\\\\test\\\\9.bmp',0)\n",
    "#读取图像的值\n",
    "of = np.zeros((round(row/5),round(col/5)))#用来存储待识别图像的特征值，这里可能有点小问题\n",
    "for nr in range(0,row):\n",
    "    for nc in range(0,col):\n",
    "        if o[nr,nc]==255:\n",
    "            of[int(nr/5),int(nc/5)] += 1"
   ]
  },
  {
   "cell_type": "code",
   "execution_count": 6,
   "metadata": {},
   "outputs": [],
   "source": [
    "#5.计算待识别图像与特征图像之前的距离\n",
    "d = np.zeros(100)\n",
    "for i in range(0,100):\n",
    "    d[i] = np.sum((of-f[i,:,:])*(of-f[i,:,:]))"
   ]
  },
  {
   "cell_type": "code",
   "execution_count": 7,
   "metadata": {},
   "outputs": [],
   "source": [
    "#6.获取k个最短距离及其索引,关键是索引\n",
    "#索引与特征图像有对应关系，0-9对应数字0，依次类推\n",
    "#首先，每次找出最短的距离及其索引，然后将该最小值替换为最大值\n",
    "#之后，重复上述过程k次，得到k个最短距离对应的索引\n",
    "d= d.tolist() #将矩阵转换为列表\n",
    "temp=[]\n",
    "Inf = max(d)\n",
    "#print(Inf)\n",
    "k = 7   #一般取奇数\n",
    "for i in range(k):\n",
    "    temp.append(d.index(min(d)))\n",
    "    d[d.index(min(d))] = Inf"
   ]
  },
  {
   "cell_type": "code",
   "execution_count": 8,
   "metadata": {},
   "outputs": [
    {
     "name": "stdout",
     "output_type": "stream",
     "text": [
      "当前的数字可能为：7\n"
     ]
    }
   ],
   "source": [
    "#7.识别\n",
    "#索引/10（取整）就是对应的数字\n",
    "temp = [i/10 for i in temp]\n",
    "r = np.zeros(10)\n",
    "for i in temp:\n",
    "    r[int(i)]+=1\n",
    "print('当前的数字可能为：'+str(np.argmax(r)))"
   ]
  },
  {
   "cell_type": "code",
   "execution_count": null,
   "metadata": {},
   "outputs": [],
   "source": []
  }
 ],
 "metadata": {
  "kernelspec": {
   "display_name": "Python 3",
   "language": "python",
   "name": "python3"
  },
  "language_info": {
   "codemirror_mode": {
    "name": "ipython",
    "version": 3
   },
   "file_extension": ".py",
   "mimetype": "text/x-python",
   "name": "python",
   "nbconvert_exporter": "python",
   "pygments_lexer": "ipython3",
   "version": "3.7.3"
  }
 },
 "nbformat": 4,
 "nbformat_minor": 2
}
