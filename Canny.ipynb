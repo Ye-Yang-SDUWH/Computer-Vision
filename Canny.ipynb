{
 "cells": [
  {
   "cell_type": "markdown",
   "metadata": {},
   "source": [
    "第十章 Canny边缘检测\n",
    "\n",
    "使用多级边缘检测算法检测边缘的办法。"
   ]
  },
  {
   "cell_type": "code",
   "execution_count": 1,
   "metadata": {},
   "outputs": [],
   "source": [
    "import numpy as np\n",
    "import cv2\n",
    "from matplotlib import pyplot as plt\n",
    "%matplotlib inline\n",
    "\n",
    "def show(img):\n",
    "    #picture_name_full = picture_name + \".jpg\"\n",
    "    #img = cv2.imread(picture_name_full)\n",
    "    img = img[:,:,(2,1,0)]                # opencv中的通道顺序是BGR，与Python的RGB刚好相反。因此此处需要调整顺序。\n",
    "    img2 = img[:,:,::-1]                  # 必须为 ::-1\n",
    "    plt.imshow(img)"
   ]
  },
  {
   "cell_type": "markdown",
   "metadata": {},
   "source": [
    "Canny边缘检测分为如下几个步骤：\n",
    "1.去噪。噪声会影响边缘检测的准确性，因此首先要将噪声过滤掉。\n",
    "2.计算梯度的幅度与方向。\n",
    "3.非极大值抑制，即适当地让边缘“变瘦”\n",
    "4.确定边缘。使用双阈值算法确定最终的边缘信息。"
   ]
  },
  {
   "cell_type": "markdown",
   "metadata": {},
   "source": [
    "应用高斯滤波取出图像噪声（高斯滤波是带距离权重的滤波）\n",
    "滤波的目的是平滑一些纹理较弱的非边缘区域，以便得到更准确的边缘。\n",
    "\n",
    "计算梯度，梯度的方向与边缘的方向是垂直的（可能意思是相切的）\n",
    "边缘检测算子返回水平方向的Gx和垂直方向的Gy，梯度的幅度和方向θ为：\n",
    "G = (Gx^2+Gy^2)^(1/2);\n",
    "θ=atan2(Gy,Gx),其中atan2表示有两个参数的arctan函数。\n",
    "\n",
    "在获得幅度和方向后，遍历图像中的像素，去除所有非边缘的点。\n",
    "具体步骤为：遍历像素点，判断像素点是否是周围像素点中具有相同梯度方向的最大值。\n",
    "如果该点是正/负梯度方向上的局部最大值，则保留该点。\n",
    "如果不是，则抑制该点（归零）\n",
    "\n",
    "完成上述步骤后，图像内的强边缘已经在当前获取的边缘图像内。但是一些虚边缘可能也在边缘图像内，这些虚边缘可能是真实图像产生的，也可能是噪声产生的，对于后者，必须将其剔除。\n",
    "设置两个阈值，其中一个是高阈值maxVal，另一个为低阈值minVal。\n",
    "1.如果当前边缘像素的梯度值大于或等于maxVal,则将其标记为强边缘。\n",
    "2.如果当前梯度介于两个阈值之间，则标记为虚边缘（需要保留）\n",
    "3.如果小于或等于minVal,则抑制当前边缘像素。\n",
    "对于虚边缘，需要进一步处理，如果与强边缘连接，则保留，否则抑制。"
   ]
  },
  {
   "cell_type": "code",
   "execution_count": 4,
   "metadata": {},
   "outputs": [
    {
     "data": {
      "text/plain": [
       "(<matplotlib.axes._subplots.AxesSubplot at 0x16fd2d78ac8>,\n",
       " <matplotlib.image.AxesImage at 0x16fd2de5f60>)"
      ]
     },
     "execution_count": 4,
     "metadata": {},
     "output_type": "execute_result"
    },
    {
     "data": {
      "image/png": "[encoded data removed]",
      "text/plain": [
       "<Figure size 432x288 with 2 Axes>"
      ]
     },
     "metadata": {
      "needs_background": "light"
     },
     "output_type": "display_data"
    }
   ],
   "source": [
    "#Canny函数及其使用\n",
    "#edges = cv2.Canny(image,threshold1,threshold2[,apertureSize[,L2gradient]])\n",
    "#image : 八位输入图像\n",
    "#threshold1 ：minVal\n",
    "#threshold2 : maxVal\n",
    "#apertureSize:Sobel算子的孔径大小\n",
    "#L2gradient ：计算图像梯度幅度的标识，默认值为False，如果设置为True，会使用L2范数进行运算，更加精确。\n",
    "o = cv2.imread(\"lena.bmp\",cv2.IMREAD_GRAYSCALE)\n",
    "r1 = cv2.Canny(o,128,200)\n",
    "r2 = cv2.Canny(o,32,128)\n",
    "plt.subplot(121),plt.imshow(r1)\n",
    "plt.subplot(122),plt.imshow(r2)"
   ]
  },
  {
   "cell_type": "code",
   "execution_count": null,
   "metadata": {},
   "outputs": [],
   "source": []
  }
 ],
 "metadata": {
  "kernelspec": {
   "display_name": "Python 3",
   "language": "python",
   "name": "python3"
  },
  "language_info": {
   "codemirror_mode": {
    "name": "ipython",
    "version": 3
   },
   "file_extension": ".py",
   "mimetype": "text/x-python",
   "name": "python",
   "nbconvert_exporter": "python",
   "pygments_lexer": "ipython3",
   "version": "3.7.3"
  }
 },
 "nbformat": 4,
 "nbformat_minor": 2
}
